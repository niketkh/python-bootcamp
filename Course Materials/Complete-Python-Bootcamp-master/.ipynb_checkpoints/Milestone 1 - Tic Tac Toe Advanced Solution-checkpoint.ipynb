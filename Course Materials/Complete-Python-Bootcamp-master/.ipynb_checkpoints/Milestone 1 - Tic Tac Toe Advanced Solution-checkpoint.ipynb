{
 "cells": [
  {
   "cell_type": "code",
   "execution_count": 4,
   "metadata": {
    "collapsed": true
   },
   "outputs": [],
   "source": [
    "# Helper Functions\n",
    "from IPython.display import clear_output\n",
    "\n",
    "def display_board(board):\n",
    "    print \"    |   |\"\n",
    "    print \"  \"+board[7]+\" | \"+board[8]+\" | \"+board[9]+\" \"\n",
    "    print \"    |   |\"\n",
    "    print \"------------\"\n",
    "    print \"    |   |\"\n",
    "    print \"  \"+board[4]+\" | \"+board[5]+\" | \"+board[6]+\" \"\n",
    "    print \"    |   |\"\n",
    "    print \"------------\"\n",
    "    print \"    |   |\"\n",
    "    print \"  \"+board[1]+\" | \"+board[2]+\" | \"+board[3]+\" \"\n",
    "    print \"    |   |\"\n",
    "    print \"\"\n",
    "    \n",
    "def player_choice(board, marker):\n",
    "    # Get Player Input\n",
    "    ask_player(board, marker)\n",
    "    \n",
    "    #Show board\n",
    "    clear_output()\n",
    "    display_board(board)\n",
    "    \n",
    "    # Check for player win\n",
    "    if win_check(board, marker):\n",
    "        print marker + ' wins!! Congratulations' \n",
    "        # Return Game State\n",
    "        return False\n",
    "\n",
    "    #Check for a tie \n",
    "    if full_board_check(board):\n",
    "        print \"Match Tied!\"\n",
    "        # Return Game State\n",
    "        return False\n",
    "        \n",
    "    # Return Game State\n",
    "    return True\n",
    "    \n",
    "    \n",
    "def ask_player(board, marker):\n",
    "    req = 'Choose where to place your: ' + marker\n",
    "    while True:\n",
    "        try:\n",
    "            choice = int(raw_input(req))\n",
    "        except ValueError:\n",
    "            print(\"Sorry, please input a number between 1-9.\")\n",
    "            continue\n",
    "\n",
    "        if board[choice] == \" \":\n",
    "            board[choice] = marker\n",
    "            break\n",
    "        else:\n",
    "            print \"That space isn't empty!\"\n",
    "            continue\n",
    "            \n",
    "def win_check(board, player):\n",
    "    ''' Check Horizontals, Verticals, and Diagonals for a win '''\n",
    "    if (board[7]  ==  board[8] ==  board[9] == player) or \\\n",
    "        (board[4] ==  board[5] ==  board[6] == player) or \\\n",
    "        (board[1] ==  board[2] ==  board[3] == player) or \\\n",
    "        (board[7] ==  board[4] ==  board[1] == player) or \\\n",
    "        (board[8] ==  board[5] ==  board[2] == player) or \\\n",
    "        (board[9] ==  board[6] ==  board[3] == player) or \\\n",
    "        (board[1] ==  board[5] ==  board[9] == player) or \\\n",
    "        (board[3] ==  board[5] ==  board[7] == player):\n",
    "        return True\n",
    "    else:\n",
    "        return False\n",
    "    \n",
    "    \n",
    "def full_board_check(board):\n",
    "    if \" \" in board[1:]:\n",
    "        return False\n",
    "    else:\n",
    "        return True\n",
    "    "
   ]
  },
  {
   "cell_type": "code",
   "execution_count": 5,
   "metadata": {
    "collapsed": true
   },
   "outputs": [],
   "source": [
    "# Play Tic Tac toe\n",
    "def play_game():\n",
    "    board = [' ']*10\n",
    "    \n",
    "    clear_output()\n",
    "    display_board(board)\n",
    "    \n",
    "    while True:\n",
    "        # Set Markers\n",
    "        X = 'X'\n",
    "        O = 'O'\n",
    "        \n",
    "        # Player X's Turn\n",
    "        print 'X\\'s Turn'\n",
    "        game_state = player_choice(board, X)\n",
    "        if game_state == False:\n",
    "            break\n",
    "        \n",
    "        \n",
    "        # Player O's Turn\n",
    "        print 'O\\'s Turn'\n",
    "        game_state = player_choice(board, O)\n",
    "        if game_state == False:\n",
    "            break\n",
    "        \n",
    "    # Ask for rematch\n",
    "    rematch = raw_input('Would you like to play again? y/n : ')\n",
    "    if rematch == 'y':\n",
    "        play_game()\n",
    "    else:\n",
    "        print 'Thanks for Playing!!!'\n",
    "    "
   ]
  },
  {
   "cell_type": "code",
   "execution_count": 6,
   "metadata": {
    "collapsed": false
   },
   "outputs": [
    {
     "name": "stdout",
     "output_type": "stream",
     "text": [
      "    |   |\n",
      "    | O | O \n",
      "    |   |\n",
      "------------\n",
      "    |   |\n",
      "    |   |   \n",
      "    |   |\n",
      "------------\n",
      "    |   |\n",
      "  X | X | X \n",
      "    |   |\n",
      "\n",
      "X wins!! Congratulations\n",
      "Would you like to play again? y/n : n\n",
      "Thanks for Playing!!!\n"
     ]
    }
   ],
   "source": [
    "play_game()"
   ]
  },
  {
   "cell_type": "code",
   "execution_count": null,
   "metadata": {
    "collapsed": true
   },
   "outputs": [],
   "source": []
  }
 ],
 "metadata": {
  "kernelspec": {
   "display_name": "Python 2",
   "language": "python",
   "name": "python2"
  },
  "language_info": {
   "codemirror_mode": {
    "name": "ipython",
    "version": 2
   },
   "file_extension": ".py",
   "mimetype": "text/x-python",
   "name": "python",
   "nbconvert_exporter": "python",
   "pygments_lexer": "ipython2",
   "version": "2.7.13"
  }
 },
 "nbformat": 4,
 "nbformat_minor": 2
}
